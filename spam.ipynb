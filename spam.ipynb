{
 "cells": [
  {
   "cell_type": "code",
   "execution_count": 43,
   "id": "46f610ab-3cbb-4d38-a686-efb121cc4472",
   "metadata": {},
   "outputs": [],
   "source": [
    "import string\n",
    "import nltk\n",
    "import pandas as pd\n",
    "import numpy as np\n",
    "import matplotlib.pyplot as plt\n",
    "from sklearn.model_selection import train_test_split\n",
    "from sklearn.naive_bayes import GaussianNB\n",
    "from sklearn.metrics import accuracy_score, f1_score, confusion_matrix\n",
    "from sklearn.preprocessing import LabelEncoder\n",
    "from nltk.tokenize import word_tokenize\n",
    "from wordcloud import WordCloud,STOPWORDS\n",
    "from nltk.stem import PorterStemmer,WordNetLemmatizer\n",
    "from nltk import pos_tag\n",
    "from nltk.corpus import stopwords,wordnet\n",
    "import seaborn as sns\n",
    "#nltk.download('punkt')"
   ]
  },
  {
   "cell_type": "code",
   "execution_count": null,
   "id": "4bb0a2c8-3eac-442c-8a40-3063f4c46671",
   "metadata": {},
   "outputs": [],
   "source": [
    "DATASET_PATH = 'spam.csv'\n",
    "df = pd.read_csv(DATASET_PATH)\n",
    "messages = df['Message'].values.tolist()\n",
    "labels = df['Category'].values.tolist()"
   ]
  },
  {
   "cell_type": "code",
   "execution_count": 29,
   "id": "892cfbfc-bb27-427a-852d-4818bf07b962",
   "metadata": {},
   "outputs": [],
   "source": [
    "def lowercase(text):\n",
    "    return text.lower()\n",
    "def punctuation_removal(text):\n",
    "    #translator = {k: '' for k in list(string.punctuation)}\n",
    "    translator = str.maketrans('','',string.punctuation)\n",
    "    return text.translate(translator)\n",
    "def tokenize(text):\n",
    "    return word_tokenize(text)\n",
    "def remove_stopwords(tokens):\n",
    "    stop_words = stopwords.words('english')\n",
    "    return [token for token in tokens if token not in stop_words]\n",
    "def stemming(tokens):\n",
    "    stemmer = PorterStemmer()\n",
    "    return [stemmer.stem(token) for token in tokens]\n",
    "def preprocess_text(text):\n",
    "    text = lowercase(text)\n",
    "    text = punctuation_removal(text)\n",
    "    tokens = tokenize(text)\n",
    "    tokens = remove_stopwords(tokens)\n",
    "    stem = stemming(tokens)\n",
    "    return stem\n",
    "messages = [preprocess_text(message) for message in messages]\n",
    "#messages"
   ]
  },
  {
   "cell_type": "code",
   "execution_count": 30,
   "id": "e8a5e0ec-bb22-45c5-8593-19cb011029be",
   "metadata": {},
   "outputs": [],
   "source": [
    "def create_dictionary(messages):\n",
    "    dictionary = []\n",
    "    for tokens in messages:\n",
    "        if tokens not in dictionary:\n",
    "            dictionary.append(tokens)\n",
    "    return dictionary\n",
    "dictionary = create_dictionary(messages)\n",
    "#dictionary"
   ]
  },
  {
   "cell_type": "code",
   "execution_count": 33,
   "id": "e34e6a8a-a861-4adb-a195-e20279f34304",
   "metadata": {},
   "outputs": [],
   "source": [
    "def create_features(tokens, dictionary):\n",
    "    features = np.zeros(len(dictionary))\n",
    "    for token in tokens:\n",
    "        if token in dictionary:\n",
    "            features[dictionary.index(token)] += 1\n",
    "    return features\n",
    "X = np.array([create_features(tokens,dictionary) for tokens in messages])"
   ]
  },
  {
   "cell_type": "code",
   "execution_count": 32,
   "id": "42b80cba-b2f1-42b0-b706-9bd724a5bc8e",
   "metadata": {},
   "outputs": [
    {
     "name": "stdout",
     "output_type": "stream",
     "text": [
      "Classes: ['ham' 'spam']\n",
      "Encoded labels: [0 0 1 ... 0 0 0]\n"
     ]
    }
   ],
   "source": [
    "le = LabelEncoder()\n",
    "y = le.fit_transform(labels)\n",
    "print(f\"Classes: {le.classes_}\")\n",
    "print(f\"Encoded labels: {y}\")"
   ]
  },
  {
   "cell_type": "code",
   "execution_count": 35,
   "id": "1dd4318f-3c9e-4af2-bb84-a4a7f2141438",
   "metadata": {},
   "outputs": [],
   "source": [
    "VAL_SIZE = 0.2\n",
    "TEST_SIZE = 0.125\n",
    "SEED = 0\n",
    "X_train, X_val, y_train, y_val = train_test_split(X,y,test_size = VAL_SIZE, shuffle = True, random_state=SEED)\n",
    "X_train, X_test, y_train, y_test = train_test_split(X_train, y_train, test_size = TEST_SIZE, shuffle = True, random_state= SEED)"
   ]
  },
  {
   "cell_type": "code",
   "execution_count": 37,
   "id": "d2a94266-8f73-44d4-b97d-6060ea5c2d33",
   "metadata": {},
   "outputs": [
    {
     "name": "stdout",
     "output_type": "stream",
     "text": [
      "Start training...\n",
      "Training completed!\n"
     ]
    }
   ],
   "source": [
    "model = GaussianNB()\n",
    "print(\"Start training...\")\n",
    "model = model.fit(X_train,y_train)\n",
    "print(\"Training completed!\")"
   ]
  },
  {
   "cell_type": "code",
   "execution_count": 40,
   "id": "41f67c16-5980-42af-a94c-7fcf4601662c",
   "metadata": {},
   "outputs": [
    {
     "name": "stderr",
     "output_type": "stream",
     "text": [
      "C:\\Program Files\\Python312\\Lib\\site-packages\\sklearn\\naive_bayes.py:513: RuntimeWarning: divide by zero encountered in log\n",
      "  n_ij = -0.5 * np.sum(np.log(2.0 * np.pi * self.var_[i, :]))\n",
      "C:\\Program Files\\Python312\\Lib\\site-packages\\sklearn\\naive_bayes.py:514: RuntimeWarning: invalid value encountered in divide\n",
      "  n_ij -= 0.5 * np.sum(((X - self.theta_[i, :]) ** 2) / (self.var_[i, :]), 1)\n",
      "C:\\Program Files\\Python312\\Lib\\site-packages\\sklearn\\naive_bayes.py:513: RuntimeWarning: divide by zero encountered in log\n",
      "  n_ij = -0.5 * np.sum(np.log(2.0 * np.pi * self.var_[i, :]))\n",
      "C:\\Program Files\\Python312\\Lib\\site-packages\\sklearn\\naive_bayes.py:514: RuntimeWarning: invalid value encountered in divide\n",
      "  n_ij -= 0.5 * np.sum(((X - self.theta_[i, :]) ** 2) / (self.var_[i, :]), 1)\n"
     ]
    }
   ],
   "source": [
    "y_val_pred = model.predict(X_val)\n",
    "y_test_pred = model.predict(X_test)\n",
    "val_accuracy = accuracy_score(y_val, y_val_pred)\n",
    "test_accuracy = accuracy_score(y_test, y_test_pred)\n",
    "val_f1_scores = f1_score(y_val, y_val_pred)\n",
    "test_f1_scores = f1_score(y_test, y_test_pred)\n",
    "val_cm = confusion_matrix(y_val, y_val_pred)\n",
    "test_cm = confusion_matrix(y_test, y_test_pred)"
   ]
  },
  {
   "cell_type": "code",
   "execution_count": null,
   "id": "5f8f2c57-bf68-4c29-8fd5-12fa45dd024e",
   "metadata": {},
   "outputs": [
    {
     "data": {
      "image/png": "[encoded data removed]",
      "text/plain": [
       "<Figure size 1200x600 with 4 Axes>"
      ]
     },
     "metadata": {},
     "output_type": "display_data"
    }
   ],
   "source": [
    "fig, axes = plt.subplots(1, 2, figsize=(12, 6), sharey=True)\n",
    "fig.suptitle('Naive Bayes')\n",
    "\n",
    "sns.heatmap(val_cm,ax=axes[0], annot = True,linewidths=1, fmt='d', cmap='Blues')\n",
    "val_title = f'Val Accuracy Score: {val_accuracy:.3f}, F1 Score: {val_f1_scores:.3f}'\n",
    "axes[0].set_title(val_title)\n",
    "\n",
    "sns.heatmap(test_cm,ax=axes[1], annot = True,linewidths=1, fmt='d', cmap='Greens')\n",
    "test_title = f'Test Accuracy Score: {test_accuracy:.3f}, F1 Score: {test_f1_scores:.3f}'\n",
    "axes[1].set_title(test_title)\n",
    "\n",
    "plt.show()"
   ]
  },
  {
   "cell_type": "code",
   "execution_count": 46,
   "id": "98e200d9-05c8-4ae9-bd3f-b07f8f035ca9",
   "metadata": {},
   "outputs": [],
   "source": [
    "def predict(text, model, dictionary, label_encoder):\n",
    "    processed_text = preprocess_text(text)\n",
    "    features = create_features(processed_text, dictionary)\n",
    "    features= np.array(features).reshape(1,-1)\n",
    "    prediction = model.predict(features)\n",
    "    prediction_cls = label_encoder.inverse_transform(prediction)[0]\n",
    "    return prediction_cls"
   ]
  },
  {
   "cell_type": "code",
   "execution_count": 55,
   "id": "723b4f71-01c3-4bdf-a0f3-eb6bddaa2188",
   "metadata": {},
   "outputs": [
    {
     "name": "stdout",
     "output_type": "stream",
     "text": [
      "Prediction: ham\n"
     ]
    },
    {
     "name": "stderr",
     "output_type": "stream",
     "text": [
      "C:\\Program Files\\Python312\\Lib\\site-packages\\sklearn\\naive_bayes.py:513: RuntimeWarning: divide by zero encountered in log\n",
      "  n_ij = -0.5 * np.sum(np.log(2.0 * np.pi * self.var_[i, :]))\n",
      "C:\\Program Files\\Python312\\Lib\\site-packages\\sklearn\\naive_bayes.py:514: RuntimeWarning: invalid value encountered in divide\n",
      "  n_ij -= 0.5 * np.sum(((X - self.theta_[i, :]) ** 2) / (self.var_[i, :]), 1)\n"
     ]
    }
   ],
   "source": [
    "test_input = \"I am actually thinking a way of doing something useful\"\n",
    "prediction_cls = predict(test_input,model,dictionary,le)\n",
    "print(f\"Prediction: {prediction_cls}\")"
   ]
  }
 ],
 "metadata": {
  "kernelspec": {
   "display_name": "Python 3 (ipykernel)",
   "language": "python",
   "name": "python3"
  },
  "language_info": {
   "codemirror_mode": {
    "name": "ipython",
    "version": 3
   },
   "file_extension": ".py",
   "mimetype": "text/x-python",
   "name": "python",
   "nbconvert_exporter": "python",
   "pygments_lexer": "ipython3",
   "version": "3.12.10"
  }
 },
 "nbformat": 4,
 "nbformat_minor": 5
}
